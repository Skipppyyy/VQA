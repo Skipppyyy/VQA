{
 "cells": [
  {
   "cell_type": "code",
   "execution_count": 1,
   "metadata": {},
   "outputs": [
    {
     "name": "stderr",
     "output_type": "stream",
     "text": [
      "c:\\Users\\opoob\\miniconda3\\envs\\cse493\\lib\\site-packages\\tqdm\\auto.py:21: TqdmWarning: IProgress not found. Please update jupyter and ipywidgets. See https://ipywidgets.readthedocs.io/en/stable/user_install.html\n",
      "  from .autonotebook import tqdm as notebook_tqdm\n"
     ]
    }
   ],
   "source": [
    "from transformers import AutoTokenizer, LxmertForQuestionAnswering\n",
    "import torch\n",
    "import json"
   ]
  },
  {
   "cell_type": "code",
   "execution_count": 2,
   "metadata": {},
   "outputs": [],
   "source": [
    "tokenizer = AutoTokenizer.from_pretrained('unc-nlp/lxmert-vqa-uncased')\n",
    "model = LxmertForQuestionAnswering.from_pretrained('unc-nlp/lxmert-vqa-uncased')"
   ]
  },
  {
   "cell_type": "code",
   "execution_count": 6,
   "metadata": {},
   "outputs": [
    {
     "name": "stdout",
     "output_type": "stream",
     "text": [
      "{'input_ids': tensor([[ 101, 2003, 2045,  ...,    0,    0,    0],\n",
      "        [ 101, 2024, 2122,  ...,    0,    0,    0],\n",
      "        [ 101, 2024, 2122,  ...,    0,    0,    0],\n",
      "        ...,\n",
      "        [ 101, 2054, 2193,  ...,    0,    0,    0],\n",
      "        [ 101, 2054, 2003,  ...,    0,    0,    0],\n",
      "        [ 101, 2003, 1996,  ...,    0,    0,    0]]), 'token_type_ids': tensor([[0, 0, 0,  ..., 0, 0, 0],\n",
      "        [0, 0, 0,  ..., 0, 0, 0],\n",
      "        [0, 0, 0,  ..., 0, 0, 0],\n",
      "        ...,\n",
      "        [0, 0, 0,  ..., 0, 0, 0],\n",
      "        [0, 0, 0,  ..., 0, 0, 0],\n",
      "        [0, 0, 0,  ..., 0, 0, 0]]), 'attention_mask': tensor([[1, 1, 1,  ..., 0, 0, 0],\n",
      "        [1, 1, 1,  ..., 0, 0, 0],\n",
      "        [1, 1, 1,  ..., 0, 0, 0],\n",
      "        ...,\n",
      "        [1, 1, 1,  ..., 0, 0, 0],\n",
      "        [1, 1, 1,  ..., 0, 0, 0],\n",
      "        [1, 1, 1,  ..., 0, 0, 0]])}\n"
     ]
    }
   ],
   "source": [
    "# Language features\n",
    "# https://huggingface.co/docs/transformers/main_classes/tokenizer\n",
    "input_questions = json.load(open('../Questions/v3_OpenEnded_mscoco_val2014_questions.json'))\n",
    "input_questions = [q['question'] for q in input_questions['questions']]\n",
    "tokens = tokenizer(\n",
    "    input_questions, \n",
    "    padding=\"max_length\", \n",
    "    max_length=20, \n",
    "    truncation=True, \n",
    "    return_token_type_ids=True, # ?\n",
    "    return_attention_mask=True, # ?\n",
    "    add_special_tokens=True, # ?\n",
    "    return_tensors='pt')\n",
    "inputs = tokens['input_ids']"
   ]
  },
  {
   "cell_type": "code",
   "execution_count": null,
   "metadata": {},
   "outputs": [],
   "source": [
    "# Visual features"
   ]
  }
 ],
 "metadata": {
  "kernelspec": {
   "display_name": "cse493",
   "language": "python",
   "name": "python3"
  },
  "language_info": {
   "codemirror_mode": {
    "name": "ipython",
    "version": 3
   },
   "file_extension": ".py",
   "mimetype": "text/x-python",
   "name": "python",
   "nbconvert_exporter": "python",
   "pygments_lexer": "ipython3",
   "version": "3.9.16"
  },
  "orig_nbformat": 4
 },
 "nbformat": 4,
 "nbformat_minor": 2
}
