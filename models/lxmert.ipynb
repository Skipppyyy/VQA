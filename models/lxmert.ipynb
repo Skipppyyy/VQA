{
 "cells": [
  {
   "cell_type": "code",
   "execution_count": 1,
   "metadata": {},
   "outputs": [
    {
     "name": "stderr",
     "output_type": "stream",
     "text": [
      "c:\\Users\\opoob\\miniconda3\\envs\\cse493\\lib\\site-packages\\tqdm\\auto.py:21: TqdmWarning: IProgress not found. Please update jupyter and ipywidgets. See https://ipywidgets.readthedocs.io/en/stable/user_install.html\n",
      "  from .autonotebook import tqdm as notebook_tqdm\n"
     ]
    }
   ],
   "source": [
    "from transformers import AutoTokenizer, LxmertForQuestionAnswering\n",
    "from modelling_frcnn import GeneralizedRCNN\n",
    "from processing_image import Preprocess\n",
    "from utils import Config\n",
    "from pathlib import Path\n",
    "import glob\n",
    "import torch\n",
    "import json\n",
    "from PIL import Image\n",
    "import torchvision\n",
    "import cv2"
   ]
  },
  {
   "cell_type": "code",
   "execution_count": 2,
   "metadata": {},
   "outputs": [
    {
     "name": "stdout",
     "output_type": "stream",
     "text": [
      "loading configuration file cache\n",
      "loading weights file https://cdn.huggingface.co/unc-nlp/frcnn-vg-finetuned/pytorch_model.bin from cache at C:\\Users\\opoob/.cache\\torch\\transformers\\57f6df6abe353be2773f2700159c65615babf39ab5b48114d2b49267672ae10f.77b59256a4cf8343ae0f923246a81489fc8d82f98d082edc2d2037c977c0d9d0\n",
      "All model checkpoint weights were used when initializing GeneralizedRCNN.\n",
      "\n",
      "All the weights of GeneralizedRCNN were initialized from the model checkpoint at unc-nlp/frcnn-vg-finetuned.\n",
      "If your task is similar to the task the model of the checkpoint was trained on, you can already use GeneralizedRCNN for predictions without further training.\n"
     ]
    }
   ],
   "source": [
    "tokenizer = AutoTokenizer.from_pretrained('unc-nlp/lxmert-vqa-uncased')\n",
    "model = LxmertForQuestionAnswering.from_pretrained('unc-nlp/lxmert-vqa-uncased')\n",
    "\n",
    "frcnn_cfg = Config.from_pretrained('unc-nlp/frcnn-vg-finetuned') # loads heads, hidden layer data, etc. \n",
    "frcnn = GeneralizedRCNN.from_pretrained('unc-nlp/frcnn-vg-finetuned', config=frcnn_cfg)\n",
    "image_preprocess = Preprocess(frcnn_cfg)"
   ]
  },
  {
   "cell_type": "code",
   "execution_count": 3,
   "metadata": {},
   "outputs": [],
   "source": [
    "# Language features\n",
    "# https://huggingface.co/docs/transformers/main_classes/tokenizer\n",
    "input_questions = json.load(open('../Questions/v3_OpenEnded_mscoco_val2014_questions.json'))\n",
    "input_questions = [q['question'] for q in input_questions['questions']]\n",
    "tokens = tokenizer(\n",
    "    input_questions, \n",
    "    padding=\"max_length\", \n",
    "    max_length=20, \n",
    "    truncation=True, \n",
    "    return_token_type_ids=True, # if multiple phrases together\n",
    "    return_attention_mask=True, # for padding\n",
    "    add_special_tokens=True,\n",
    "    return_tensors='pt')\n",
    "inputs = tokens['input_ids']"
   ]
  },
  {
   "cell_type": "code",
   "execution_count": 3,
   "metadata": {},
   "outputs": [
    {
     "name": "stderr",
     "output_type": "stream",
     "text": [
      "c:\\Users\\opoob\\miniconda3\\envs\\cse493\\lib\\site-packages\\torch\\functional.py:478: UserWarning: torch.meshgrid: in an upcoming release, it will be required to pass the indexing argument. (Triggered internally at  C:\\b\\abs_bao0hdcrdh\\croot\\pytorch_1675190257512\\work\\aten\\src\\ATen\\native\\TensorShape.cpp:2895.)\n",
      "  return _VF.meshgrid(tensors, **kwargs)  # type: ignore[attr-defined]\n"
     ]
    },
    {
     "ename": "",
     "evalue": "",
     "output_type": "error",
     "traceback": [
      "\u001b[1;31mThe Kernel crashed while executing code in the the current cell or a previous cell. Please review the code in the cell(s) to identify a possible cause of the failure. Click <a href='https://aka.ms/vscodeJupyterKernelCrash'>here</a> for more info. View Jupyter <a href='command:jupyter.viewOutput'>log</a> for further details."
     ]
    }
   ],
   "source": [
    "# Visual features ROI pooled bounding boxes\n",
    "\n",
    "# process images into tensors and preprocess them\n",
    "path = '../Dataset/v3_val2014_gen/'\n",
    "transform = torchvision.transforms.Compose([torchvision.transforms.PILToTensor()])\n",
    "imgs = []\n",
    "count = 0\n",
    "for filename in glob.glob(f'{path}/*.png'):\n",
    "    im = Image.open(filename)\n",
    "    temp = transform(im).movedim(0, 2)\n",
    "    if count % 50 == 0:\n",
    "        cv2.imshow('Image', cv2.cvtColor(temp.numpy(), cv2.COLOR_RGB2BGR))\n",
    "        cv2.waitKey(0)\n",
    "    imgs.append(temp)\n",
    "    count += 1\n",
    "cv2.destroyAllWindows()\n",
    "images, sizes, scales_yx = image_preprocess(imgs[0])\n",
    "\n",
    "# sizes is tensor of image sizes\n",
    "# scales_yx is how much each image scaled by to the max image size\n",
    "# images are adjusted images\n",
    "output_dict = frcnn(\n",
    "    images, \n",
    "    sizes,\n",
    "    scales_yx=scales_yx, \n",
    "    padding='max_detections',\n",
    "    max_detections=frcnn_cfg.max_detections,\n",
    "    return_tensors=\"pt\"\n",
    ")"
   ]
  }
 ],
 "metadata": {
  "kernelspec": {
   "display_name": "cse493",
   "language": "python",
   "name": "python3"
  },
  "language_info": {
   "codemirror_mode": {
    "name": "ipython",
    "version": 3
   },
   "file_extension": ".py",
   "mimetype": "text/x-python",
   "name": "python",
   "nbconvert_exporter": "python",
   "pygments_lexer": "ipython3",
   "version": "3.9.16"
  },
  "orig_nbformat": 4
 },
 "nbformat": 4,
 "nbformat_minor": 2
}
